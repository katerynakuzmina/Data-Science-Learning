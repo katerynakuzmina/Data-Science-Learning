{
 "cells": [
  {
   "cell_type": "code",
   "execution_count": 127,
   "id": "a4114d22-3ca2-46c3-b36b-e514a2789198",
   "metadata": {},
   "outputs": [],
   "source": [
    "import pandas as pd\n",
    "import numpy as np"
   ]
  },
  {
   "cell_type": "markdown",
   "id": "aaa5dad5-12c6-4de2-a757-de5f9ad25e35",
   "metadata": {},
   "source": [
    "## Data Frames"
   ]
  },
  {
   "cell_type": "code",
   "execution_count": 128,
   "id": "41652764-aa56-4276-8930-e12e690e6541",
   "metadata": {},
   "outputs": [
    {
     "data": {
      "text/html": [
       "<div>\n",
       "<style scoped>\n",
       "    .dataframe tbody tr th:only-of-type {\n",
       "        vertical-align: middle;\n",
       "    }\n",
       "\n",
       "    .dataframe tbody tr th {\n",
       "        vertical-align: top;\n",
       "    }\n",
       "\n",
       "    .dataframe thead th {\n",
       "        text-align: right;\n",
       "    }\n",
       "</style>\n",
       "<table border=\"1\" class=\"dataframe\">\n",
       "  <thead>\n",
       "    <tr style=\"text-align: right;\">\n",
       "      <th></th>\n",
       "      <th>User ID</th>\n",
       "      <th>Username</th>\n",
       "      <th>Age</th>\n",
       "      <th>Joined Date</th>\n",
       "      <th>Total Posts</th>\n",
       "      <th>Reputation</th>\n",
       "    </tr>\n",
       "  </thead>\n",
       "  <tbody>\n",
       "    <tr>\n",
       "      <th>0</th>\n",
       "      <td>1</td>\n",
       "      <td>bogdan_s</td>\n",
       "      <td>18.0</td>\n",
       "      <td>2032-01-01</td>\n",
       "      <td>150</td>\n",
       "      <td>500</td>\n",
       "    </tr>\n",
       "    <tr>\n",
       "      <th>1</th>\n",
       "      <td>2</td>\n",
       "      <td>jane_smith</td>\n",
       "      <td>35.0</td>\n",
       "      <td>2032-02-15</td>\n",
       "      <td>230</td>\n",
       "      <td>720</td>\n",
       "    </tr>\n",
       "    <tr>\n",
       "      <th>2</th>\n",
       "      <td>3</td>\n",
       "      <td>alex123</td>\n",
       "      <td>25.0</td>\n",
       "      <td>2032-04-25</td>\n",
       "      <td>80</td>\n",
       "      <td>200</td>\n",
       "    </tr>\n",
       "    <tr>\n",
       "      <th>3</th>\n",
       "      <td>4</td>\n",
       "      <td>bob56</td>\n",
       "      <td>38.0</td>\n",
       "      <td>2032-06-21</td>\n",
       "      <td>420</td>\n",
       "      <td>940</td>\n",
       "    </tr>\n",
       "    <tr>\n",
       "      <th>4</th>\n",
       "      <td>5</td>\n",
       "      <td>mark_wilson</td>\n",
       "      <td>NaN</td>\n",
       "      <td>2032-09-15</td>\n",
       "      <td>310</td>\n",
       "      <td>500</td>\n",
       "    </tr>\n",
       "  </tbody>\n",
       "</table>\n",
       "</div>"
      ],
      "text/plain": [
       "   User ID     Username   Age Joined Date  Total Posts  Reputation\n",
       "0        1     bogdan_s  18.0  2032-01-01          150         500\n",
       "1        2   jane_smith  35.0  2032-02-15          230         720\n",
       "2        3      alex123  25.0  2032-04-25           80         200\n",
       "3        4        bob56  38.0  2032-06-21          420         940\n",
       "4        5  mark_wilson   NaN  2032-09-15          310         500"
      ]
     },
     "execution_count": 128,
     "metadata": {},
     "output_type": "execute_result"
    }
   ],
   "source": [
    "forum_users = {\n",
    "    'User ID': np.array([1, 2, 3, 4, 5]),\n",
    "    'Username': ['bogdan_s', 'jane_smith', 'alex123', 'bob56', 'mark_wilson'],\n",
    "    'Age': [18, 35, 25, 38, None],\n",
    "    'Joined Date': pd.to_datetime(['2032-01-01', '2032-02-15', '2032-04-25', '2032-06-21', '2032-09-15']),\n",
    "    'Total Posts': [150, 230, 80, 420, 310],\n",
    "    'Reputation': [500, 720, 200, 940, 500]\n",
    "}\n",
    "\n",
    "df = pd.DataFrame(forum_users)\n",
    "df"
   ]
  },
  {
   "cell_type": "code",
   "execution_count": 129,
   "id": "ae2f98d3-80c3-4b3a-8e5e-f6ca73d43670",
   "metadata": {},
   "outputs": [
    {
     "data": {
      "text/plain": [
       "(5, 6)"
      ]
     },
     "execution_count": 129,
     "metadata": {},
     "output_type": "execute_result"
    }
   ],
   "source": [
    "df.shape"
   ]
  },
  {
   "cell_type": "code",
   "execution_count": 130,
   "id": "4b7d8cb0-bfcd-4f3c-9eac-4660701a363c",
   "metadata": {},
   "outputs": [
    {
     "data": {
      "text/plain": [
       "pandas.core.frame.DataFrame"
      ]
     },
     "execution_count": 130,
     "metadata": {},
     "output_type": "execute_result"
    }
   ],
   "source": [
    "type(df)"
   ]
  },
  {
   "cell_type": "code",
   "execution_count": 131,
   "id": "8b7d862c-53cc-4a0b-bd18-49a0a1b630a5",
   "metadata": {},
   "outputs": [
    {
     "data": {
      "text/plain": [
       "Index(['User ID', 'Username', 'Age', 'Joined Date', 'Total Posts',\n",
       "       'Reputation'],\n",
       "      dtype='object')"
      ]
     },
     "execution_count": 131,
     "metadata": {},
     "output_type": "execute_result"
    }
   ],
   "source": [
    "df.columns"
   ]
  },
  {
   "cell_type": "code",
   "execution_count": 132,
   "id": "84ef76ce-8e73-4956-b8ae-ba65b22ec8bf",
   "metadata": {},
   "outputs": [
    {
     "data": {
      "text/plain": [
       "pandas.core.indexes.base.Index"
      ]
     },
     "execution_count": 132,
     "metadata": {},
     "output_type": "execute_result"
    }
   ],
   "source": [
    "type(df.columns)"
   ]
  },
  {
   "cell_type": "code",
   "execution_count": 133,
   "id": "30c22216-9e35-45a0-bd77-70c006364713",
   "metadata": {},
   "outputs": [
    {
     "data": {
      "text/plain": [
       "['User ID', 'Username', 'Age', 'Joined Date', 'Total Posts', 'Reputation']"
      ]
     },
     "execution_count": 133,
     "metadata": {},
     "output_type": "execute_result"
    }
   ],
   "source": [
    "df.columns.tolist()"
   ]
  },
  {
   "cell_type": "code",
   "execution_count": 134,
   "id": "05f35eea-e69d-423f-bcd0-840a771a0b25",
   "metadata": {},
   "outputs": [
    {
     "data": {
      "text/plain": [
       "RangeIndex(start=0, stop=5, step=1)"
      ]
     },
     "execution_count": 134,
     "metadata": {},
     "output_type": "execute_result"
    }
   ],
   "source": [
    "df.index"
   ]
  },
  {
   "cell_type": "code",
   "execution_count": 135,
   "id": "e7c6b374-7dba-4716-b924-f9eb5cd79d32",
   "metadata": {},
   "outputs": [
    {
     "data": {
      "text/plain": [
       "[0, 1, 2, 3, 4]"
      ]
     },
     "execution_count": 135,
     "metadata": {},
     "output_type": "execute_result"
    }
   ],
   "source": [
    "df.index.tolist()"
   ]
  },
  {
   "cell_type": "code",
   "execution_count": 136,
   "id": "1cc787ce-8ddb-4d84-8227-5eaba9dd728e",
   "metadata": {},
   "outputs": [
    {
     "data": {
      "text/plain": [
       "User ID                 int64\n",
       "Username               object\n",
       "Age                   float64\n",
       "Joined Date    datetime64[ns]\n",
       "Total Posts             int64\n",
       "Reputation              int64\n",
       "dtype: object"
      ]
     },
     "execution_count": 136,
     "metadata": {},
     "output_type": "execute_result"
    }
   ],
   "source": [
    "df.dtypes"
   ]
  },
  {
   "cell_type": "code",
   "execution_count": 137,
   "id": "8d0c6749-9f68-4e5d-92a2-8eda6fedc04a",
   "metadata": {},
   "outputs": [
    {
     "data": {
      "text/plain": [
       "array([[1, 'bogdan_s', 18.0, Timestamp('2032-01-01 00:00:00'), 150, 500],\n",
       "       [2, 'jane_smith', 35.0, Timestamp('2032-02-15 00:00:00'), 230,\n",
       "        720],\n",
       "       [3, 'alex123', 25.0, Timestamp('2032-04-25 00:00:00'), 80, 200],\n",
       "       [4, 'bob56', 38.0, Timestamp('2032-06-21 00:00:00'), 420, 940],\n",
       "       [5, 'mark_wilson', nan, Timestamp('2032-09-15 00:00:00'), 310,\n",
       "        500]], dtype=object)"
      ]
     },
     "execution_count": 137,
     "metadata": {},
     "output_type": "execute_result"
    }
   ],
   "source": [
    "df.values"
   ]
  },
  {
   "cell_type": "code",
   "execution_count": 138,
   "id": "0ace8636-3e52-42b6-b453-47217ec19b00",
   "metadata": {},
   "outputs": [
    {
     "data": {
      "text/plain": [
       "numpy.ndarray"
      ]
     },
     "execution_count": 138,
     "metadata": {},
     "output_type": "execute_result"
    }
   ],
   "source": [
    "type(df.values)"
   ]
  },
  {
   "cell_type": "code",
   "execution_count": 139,
   "id": "f3efbad5-b536-4c3b-a09b-3df1058c06c7",
   "metadata": {},
   "outputs": [
    {
     "data": {
      "text/plain": [
       "'jane_smith'"
      ]
     },
     "execution_count": 139,
     "metadata": {},
     "output_type": "execute_result"
    }
   ],
   "source": [
    "df.values[1, 1]"
   ]
  },
  {
   "cell_type": "code",
   "execution_count": 140,
   "id": "e6adccfe-4744-4ac0-a3dc-678402d312ff",
   "metadata": {},
   "outputs": [
    {
     "data": {
      "text/plain": [
       "[[1, 'bogdan_s', 18.0, Timestamp('2032-01-01 00:00:00'), 150, 500],\n",
       " [2, 'jane_smith', 35.0, Timestamp('2032-02-15 00:00:00'), 230, 720],\n",
       " [3, 'alex123', 25.0, Timestamp('2032-04-25 00:00:00'), 80, 200],\n",
       " [4, 'bob56', 38.0, Timestamp('2032-06-21 00:00:00'), 420, 940],\n",
       " [5, 'mark_wilson', nan, Timestamp('2032-09-15 00:00:00'), 310, 500]]"
      ]
     },
     "execution_count": 140,
     "metadata": {},
     "output_type": "execute_result"
    }
   ],
   "source": [
    "df.values.tolist()"
   ]
  },
  {
   "cell_type": "code",
   "execution_count": 141,
   "id": "9a20d3e3-055b-47ef-ab11-76240ee58ebd",
   "metadata": {},
   "outputs": [
    {
     "name": "stdout",
     "output_type": "stream",
     "text": [
      "bogdan_s\n",
      "jane_smith\n",
      "alex123\n",
      "bob56\n",
      "mark_wilson\n"
     ]
    }
   ],
   "source": [
    "for l in df.values.tolist():\n",
    "    print(l[1])"
   ]
  },
  {
   "cell_type": "code",
   "execution_count": 142,
   "id": "439e6c1b-9dab-4a4e-a4c7-2467c5688fa3",
   "metadata": {},
   "outputs": [
    {
     "data": {
      "text/html": [
       "<div>\n",
       "<style scoped>\n",
       "    .dataframe tbody tr th:only-of-type {\n",
       "        vertical-align: middle;\n",
       "    }\n",
       "\n",
       "    .dataframe tbody tr th {\n",
       "        vertical-align: top;\n",
       "    }\n",
       "\n",
       "    .dataframe thead th {\n",
       "        text-align: right;\n",
       "    }\n",
       "</style>\n",
       "<table border=\"1\" class=\"dataframe\">\n",
       "  <thead>\n",
       "    <tr style=\"text-align: right;\">\n",
       "      <th></th>\n",
       "      <th>User ID</th>\n",
       "      <th>Username</th>\n",
       "      <th>Age</th>\n",
       "      <th>Joined Date</th>\n",
       "      <th>Total Posts</th>\n",
       "      <th>Reputation</th>\n",
       "    </tr>\n",
       "  </thead>\n",
       "  <tbody>\n",
       "    <tr>\n",
       "      <th>0</th>\n",
       "      <td>1</td>\n",
       "      <td>bogdan_s</td>\n",
       "      <td>18.0</td>\n",
       "      <td>2032-01-01</td>\n",
       "      <td>150</td>\n",
       "      <td>500</td>\n",
       "    </tr>\n",
       "    <tr>\n",
       "      <th>1</th>\n",
       "      <td>2</td>\n",
       "      <td>jane_smith</td>\n",
       "      <td>35.0</td>\n",
       "      <td>2032-02-15</td>\n",
       "      <td>230</td>\n",
       "      <td>720</td>\n",
       "    </tr>\n",
       "    <tr>\n",
       "      <th>2</th>\n",
       "      <td>3</td>\n",
       "      <td>alex123</td>\n",
       "      <td>25.0</td>\n",
       "      <td>2032-04-25</td>\n",
       "      <td>80</td>\n",
       "      <td>200</td>\n",
       "    </tr>\n",
       "    <tr>\n",
       "      <th>3</th>\n",
       "      <td>4</td>\n",
       "      <td>bob56</td>\n",
       "      <td>38.0</td>\n",
       "      <td>2032-06-21</td>\n",
       "      <td>420</td>\n",
       "      <td>940</td>\n",
       "    </tr>\n",
       "    <tr>\n",
       "      <th>4</th>\n",
       "      <td>5</td>\n",
       "      <td>mark_wilson</td>\n",
       "      <td>NaN</td>\n",
       "      <td>2032-09-15</td>\n",
       "      <td>310</td>\n",
       "      <td>500</td>\n",
       "    </tr>\n",
       "  </tbody>\n",
       "</table>\n",
       "</div>"
      ],
      "text/plain": [
       "   User ID     Username   Age Joined Date  Total Posts  Reputation\n",
       "0        1     bogdan_s  18.0  2032-01-01          150         500\n",
       "1        2   jane_smith  35.0  2032-02-15          230         720\n",
       "2        3      alex123  25.0  2032-04-25           80         200\n",
       "3        4        bob56  38.0  2032-06-21          420         940\n",
       "4        5  mark_wilson   NaN  2032-09-15          310         500"
      ]
     },
     "execution_count": 142,
     "metadata": {},
     "output_type": "execute_result"
    }
   ],
   "source": [
    "df.head()"
   ]
  },
  {
   "cell_type": "code",
   "execution_count": 143,
   "id": "d60698c1-3c00-4d76-bdfb-db60fb72be17",
   "metadata": {},
   "outputs": [
    {
     "data": {
      "text/html": [
       "<div>\n",
       "<style scoped>\n",
       "    .dataframe tbody tr th:only-of-type {\n",
       "        vertical-align: middle;\n",
       "    }\n",
       "\n",
       "    .dataframe tbody tr th {\n",
       "        vertical-align: top;\n",
       "    }\n",
       "\n",
       "    .dataframe thead th {\n",
       "        text-align: right;\n",
       "    }\n",
       "</style>\n",
       "<table border=\"1\" class=\"dataframe\">\n",
       "  <thead>\n",
       "    <tr style=\"text-align: right;\">\n",
       "      <th></th>\n",
       "      <th>User ID</th>\n",
       "      <th>Username</th>\n",
       "      <th>Age</th>\n",
       "      <th>Joined Date</th>\n",
       "      <th>Total Posts</th>\n",
       "      <th>Reputation</th>\n",
       "    </tr>\n",
       "  </thead>\n",
       "  <tbody>\n",
       "    <tr>\n",
       "      <th>0</th>\n",
       "      <td>1</td>\n",
       "      <td>bogdan_s</td>\n",
       "      <td>18.0</td>\n",
       "      <td>2032-01-01</td>\n",
       "      <td>150</td>\n",
       "      <td>500</td>\n",
       "    </tr>\n",
       "    <tr>\n",
       "      <th>1</th>\n",
       "      <td>2</td>\n",
       "      <td>jane_smith</td>\n",
       "      <td>35.0</td>\n",
       "      <td>2032-02-15</td>\n",
       "      <td>230</td>\n",
       "      <td>720</td>\n",
       "    </tr>\n",
       "    <tr>\n",
       "      <th>2</th>\n",
       "      <td>3</td>\n",
       "      <td>alex123</td>\n",
       "      <td>25.0</td>\n",
       "      <td>2032-04-25</td>\n",
       "      <td>80</td>\n",
       "      <td>200</td>\n",
       "    </tr>\n",
       "  </tbody>\n",
       "</table>\n",
       "</div>"
      ],
      "text/plain": [
       "   User ID    Username   Age Joined Date  Total Posts  Reputation\n",
       "0        1    bogdan_s  18.0  2032-01-01          150         500\n",
       "1        2  jane_smith  35.0  2032-02-15          230         720\n",
       "2        3     alex123  25.0  2032-04-25           80         200"
      ]
     },
     "execution_count": 143,
     "metadata": {},
     "output_type": "execute_result"
    }
   ],
   "source": [
    "df.head(3)"
   ]
  },
  {
   "cell_type": "code",
   "execution_count": 144,
   "id": "b590dea3-eb45-42bc-95a7-9b526e96b8f0",
   "metadata": {},
   "outputs": [
    {
     "data": {
      "text/html": [
       "<div>\n",
       "<style scoped>\n",
       "    .dataframe tbody tr th:only-of-type {\n",
       "        vertical-align: middle;\n",
       "    }\n",
       "\n",
       "    .dataframe tbody tr th {\n",
       "        vertical-align: top;\n",
       "    }\n",
       "\n",
       "    .dataframe thead th {\n",
       "        text-align: right;\n",
       "    }\n",
       "</style>\n",
       "<table border=\"1\" class=\"dataframe\">\n",
       "  <thead>\n",
       "    <tr style=\"text-align: right;\">\n",
       "      <th></th>\n",
       "      <th>User ID</th>\n",
       "      <th>Username</th>\n",
       "      <th>Age</th>\n",
       "      <th>Joined Date</th>\n",
       "      <th>Total Posts</th>\n",
       "      <th>Reputation</th>\n",
       "    </tr>\n",
       "  </thead>\n",
       "  <tbody>\n",
       "    <tr>\n",
       "      <th>0</th>\n",
       "      <td>1</td>\n",
       "      <td>bogdan_s</td>\n",
       "      <td>18.0</td>\n",
       "      <td>2032-01-01</td>\n",
       "      <td>150</td>\n",
       "      <td>500</td>\n",
       "    </tr>\n",
       "    <tr>\n",
       "      <th>1</th>\n",
       "      <td>2</td>\n",
       "      <td>jane_smith</td>\n",
       "      <td>35.0</td>\n",
       "      <td>2032-02-15</td>\n",
       "      <td>230</td>\n",
       "      <td>720</td>\n",
       "    </tr>\n",
       "    <tr>\n",
       "      <th>2</th>\n",
       "      <td>3</td>\n",
       "      <td>alex123</td>\n",
       "      <td>25.0</td>\n",
       "      <td>2032-04-25</td>\n",
       "      <td>80</td>\n",
       "      <td>200</td>\n",
       "    </tr>\n",
       "    <tr>\n",
       "      <th>3</th>\n",
       "      <td>4</td>\n",
       "      <td>bob56</td>\n",
       "      <td>38.0</td>\n",
       "      <td>2032-06-21</td>\n",
       "      <td>420</td>\n",
       "      <td>940</td>\n",
       "    </tr>\n",
       "    <tr>\n",
       "      <th>4</th>\n",
       "      <td>5</td>\n",
       "      <td>mark_wilson</td>\n",
       "      <td>NaN</td>\n",
       "      <td>2032-09-15</td>\n",
       "      <td>310</td>\n",
       "      <td>500</td>\n",
       "    </tr>\n",
       "  </tbody>\n",
       "</table>\n",
       "</div>"
      ],
      "text/plain": [
       "   User ID     Username   Age Joined Date  Total Posts  Reputation\n",
       "0        1     bogdan_s  18.0  2032-01-01          150         500\n",
       "1        2   jane_smith  35.0  2032-02-15          230         720\n",
       "2        3      alex123  25.0  2032-04-25           80         200\n",
       "3        4        bob56  38.0  2032-06-21          420         940\n",
       "4        5  mark_wilson   NaN  2032-09-15          310         500"
      ]
     },
     "execution_count": 144,
     "metadata": {},
     "output_type": "execute_result"
    }
   ],
   "source": [
    "df.tail()"
   ]
  },
  {
   "cell_type": "code",
   "execution_count": 145,
   "id": "3e6e8cbe-6f1e-414d-9009-b5cd9de3cccc",
   "metadata": {},
   "outputs": [
    {
     "data": {
      "text/html": [
       "<div>\n",
       "<style scoped>\n",
       "    .dataframe tbody tr th:only-of-type {\n",
       "        vertical-align: middle;\n",
       "    }\n",
       "\n",
       "    .dataframe tbody tr th {\n",
       "        vertical-align: top;\n",
       "    }\n",
       "\n",
       "    .dataframe thead th {\n",
       "        text-align: right;\n",
       "    }\n",
       "</style>\n",
       "<table border=\"1\" class=\"dataframe\">\n",
       "  <thead>\n",
       "    <tr style=\"text-align: right;\">\n",
       "      <th></th>\n",
       "      <th>User ID</th>\n",
       "      <th>Username</th>\n",
       "      <th>Age</th>\n",
       "      <th>Joined Date</th>\n",
       "      <th>Total Posts</th>\n",
       "      <th>Reputation</th>\n",
       "    </tr>\n",
       "  </thead>\n",
       "  <tbody>\n",
       "    <tr>\n",
       "      <th>3</th>\n",
       "      <td>4</td>\n",
       "      <td>bob56</td>\n",
       "      <td>38.0</td>\n",
       "      <td>2032-06-21</td>\n",
       "      <td>420</td>\n",
       "      <td>940</td>\n",
       "    </tr>\n",
       "    <tr>\n",
       "      <th>4</th>\n",
       "      <td>5</td>\n",
       "      <td>mark_wilson</td>\n",
       "      <td>NaN</td>\n",
       "      <td>2032-09-15</td>\n",
       "      <td>310</td>\n",
       "      <td>500</td>\n",
       "    </tr>\n",
       "  </tbody>\n",
       "</table>\n",
       "</div>"
      ],
      "text/plain": [
       "   User ID     Username   Age Joined Date  Total Posts  Reputation\n",
       "3        4        bob56  38.0  2032-06-21          420         940\n",
       "4        5  mark_wilson   NaN  2032-09-15          310         500"
      ]
     },
     "execution_count": 145,
     "metadata": {},
     "output_type": "execute_result"
    }
   ],
   "source": [
    "df.tail(2)"
   ]
  },
  {
   "cell_type": "code",
   "execution_count": 146,
   "id": "f9b5d501-4aac-4031-a2b8-498cf1d4256f",
   "metadata": {},
   "outputs": [
    {
     "data": {
      "text/html": [
       "<div>\n",
       "<style scoped>\n",
       "    .dataframe tbody tr th:only-of-type {\n",
       "        vertical-align: middle;\n",
       "    }\n",
       "\n",
       "    .dataframe tbody tr th {\n",
       "        vertical-align: top;\n",
       "    }\n",
       "\n",
       "    .dataframe thead th {\n",
       "        text-align: right;\n",
       "    }\n",
       "</style>\n",
       "<table border=\"1\" class=\"dataframe\">\n",
       "  <thead>\n",
       "    <tr style=\"text-align: right;\">\n",
       "      <th></th>\n",
       "      <th>User ID</th>\n",
       "      <th>Age</th>\n",
       "      <th>Joined Date</th>\n",
       "      <th>Total Posts</th>\n",
       "      <th>Reputation</th>\n",
       "    </tr>\n",
       "  </thead>\n",
       "  <tbody>\n",
       "    <tr>\n",
       "      <th>count</th>\n",
       "      <td>5.000000</td>\n",
       "      <td>4.000000</td>\n",
       "      <td>5</td>\n",
       "      <td>5.000000</td>\n",
       "      <td>5.000000</td>\n",
       "    </tr>\n",
       "    <tr>\n",
       "      <th>mean</th>\n",
       "      <td>3.000000</td>\n",
       "      <td>29.000000</td>\n",
       "      <td>2032-04-28 00:00:00</td>\n",
       "      <td>238.000000</td>\n",
       "      <td>572.000000</td>\n",
       "    </tr>\n",
       "    <tr>\n",
       "      <th>min</th>\n",
       "      <td>1.000000</td>\n",
       "      <td>18.000000</td>\n",
       "      <td>2032-01-01 00:00:00</td>\n",
       "      <td>80.000000</td>\n",
       "      <td>200.000000</td>\n",
       "    </tr>\n",
       "    <tr>\n",
       "      <th>25%</th>\n",
       "      <td>2.000000</td>\n",
       "      <td>23.250000</td>\n",
       "      <td>2032-02-15 00:00:00</td>\n",
       "      <td>150.000000</td>\n",
       "      <td>500.000000</td>\n",
       "    </tr>\n",
       "    <tr>\n",
       "      <th>50%</th>\n",
       "      <td>3.000000</td>\n",
       "      <td>30.000000</td>\n",
       "      <td>2032-04-25 00:00:00</td>\n",
       "      <td>230.000000</td>\n",
       "      <td>500.000000</td>\n",
       "    </tr>\n",
       "    <tr>\n",
       "      <th>75%</th>\n",
       "      <td>4.000000</td>\n",
       "      <td>35.750000</td>\n",
       "      <td>2032-06-21 00:00:00</td>\n",
       "      <td>310.000000</td>\n",
       "      <td>720.000000</td>\n",
       "    </tr>\n",
       "    <tr>\n",
       "      <th>max</th>\n",
       "      <td>5.000000</td>\n",
       "      <td>38.000000</td>\n",
       "      <td>2032-09-15 00:00:00</td>\n",
       "      <td>420.000000</td>\n",
       "      <td>940.000000</td>\n",
       "    </tr>\n",
       "    <tr>\n",
       "      <th>std</th>\n",
       "      <td>1.581139</td>\n",
       "      <td>9.201449</td>\n",
       "      <td>NaN</td>\n",
       "      <td>133.304163</td>\n",
       "      <td>276.622486</td>\n",
       "    </tr>\n",
       "  </tbody>\n",
       "</table>\n",
       "</div>"
      ],
      "text/plain": [
       "        User ID        Age          Joined Date  Total Posts  Reputation\n",
       "count  5.000000   4.000000                    5     5.000000    5.000000\n",
       "mean   3.000000  29.000000  2032-04-28 00:00:00   238.000000  572.000000\n",
       "min    1.000000  18.000000  2032-01-01 00:00:00    80.000000  200.000000\n",
       "25%    2.000000  23.250000  2032-02-15 00:00:00   150.000000  500.000000\n",
       "50%    3.000000  30.000000  2032-04-25 00:00:00   230.000000  500.000000\n",
       "75%    4.000000  35.750000  2032-06-21 00:00:00   310.000000  720.000000\n",
       "max    5.000000  38.000000  2032-09-15 00:00:00   420.000000  940.000000\n",
       "std    1.581139   9.201449                  NaN   133.304163  276.622486"
      ]
     },
     "execution_count": 146,
     "metadata": {},
     "output_type": "execute_result"
    }
   ],
   "source": [
    "df.describe()"
   ]
  },
  {
   "cell_type": "code",
   "execution_count": 147,
   "id": "578cd64d-adeb-4724-b4aa-8dcc3068c5b6",
   "metadata": {},
   "outputs": [
    {
     "data": {
      "text/html": [
       "<div>\n",
       "<style scoped>\n",
       "    .dataframe tbody tr th:only-of-type {\n",
       "        vertical-align: middle;\n",
       "    }\n",
       "\n",
       "    .dataframe tbody tr th {\n",
       "        vertical-align: top;\n",
       "    }\n",
       "\n",
       "    .dataframe thead th {\n",
       "        text-align: right;\n",
       "    }\n",
       "</style>\n",
       "<table border=\"1\" class=\"dataframe\">\n",
       "  <thead>\n",
       "    <tr style=\"text-align: right;\">\n",
       "      <th></th>\n",
       "      <th>User ID</th>\n",
       "      <th>Age</th>\n",
       "      <th>Joined Date</th>\n",
       "      <th>Total Posts</th>\n",
       "      <th>Reputation</th>\n",
       "    </tr>\n",
       "  </thead>\n",
       "  <tbody>\n",
       "    <tr>\n",
       "      <th>count</th>\n",
       "      <td>5.00</td>\n",
       "      <td>4.00</td>\n",
       "      <td>5</td>\n",
       "      <td>5.0</td>\n",
       "      <td>5.00</td>\n",
       "    </tr>\n",
       "    <tr>\n",
       "      <th>mean</th>\n",
       "      <td>3.00</td>\n",
       "      <td>29.00</td>\n",
       "      <td>2032-04-28 00:00:00</td>\n",
       "      <td>238.0</td>\n",
       "      <td>572.00</td>\n",
       "    </tr>\n",
       "    <tr>\n",
       "      <th>min</th>\n",
       "      <td>1.00</td>\n",
       "      <td>18.00</td>\n",
       "      <td>2032-01-01 00:00:00</td>\n",
       "      <td>80.0</td>\n",
       "      <td>200.00</td>\n",
       "    </tr>\n",
       "    <tr>\n",
       "      <th>25%</th>\n",
       "      <td>2.00</td>\n",
       "      <td>23.25</td>\n",
       "      <td>2032-02-15 00:00:00</td>\n",
       "      <td>150.0</td>\n",
       "      <td>500.00</td>\n",
       "    </tr>\n",
       "    <tr>\n",
       "      <th>50%</th>\n",
       "      <td>3.00</td>\n",
       "      <td>30.00</td>\n",
       "      <td>2032-04-25 00:00:00</td>\n",
       "      <td>230.0</td>\n",
       "      <td>500.00</td>\n",
       "    </tr>\n",
       "    <tr>\n",
       "      <th>75%</th>\n",
       "      <td>4.00</td>\n",
       "      <td>35.75</td>\n",
       "      <td>2032-06-21 00:00:00</td>\n",
       "      <td>310.0</td>\n",
       "      <td>720.00</td>\n",
       "    </tr>\n",
       "    <tr>\n",
       "      <th>max</th>\n",
       "      <td>5.00</td>\n",
       "      <td>38.00</td>\n",
       "      <td>2032-09-15 00:00:00</td>\n",
       "      <td>420.0</td>\n",
       "      <td>940.00</td>\n",
       "    </tr>\n",
       "    <tr>\n",
       "      <th>std</th>\n",
       "      <td>1.58</td>\n",
       "      <td>9.20</td>\n",
       "      <td>NaN</td>\n",
       "      <td>133.3</td>\n",
       "      <td>276.62</td>\n",
       "    </tr>\n",
       "  </tbody>\n",
       "</table>\n",
       "</div>"
      ],
      "text/plain": [
       "       User ID    Age          Joined Date  Total Posts  Reputation\n",
       "count     5.00   4.00                    5          5.0        5.00\n",
       "mean      3.00  29.00  2032-04-28 00:00:00        238.0      572.00\n",
       "min       1.00  18.00  2032-01-01 00:00:00         80.0      200.00\n",
       "25%       2.00  23.25  2032-02-15 00:00:00        150.0      500.00\n",
       "50%       3.00  30.00  2032-04-25 00:00:00        230.0      500.00\n",
       "75%       4.00  35.75  2032-06-21 00:00:00        310.0      720.00\n",
       "max       5.00  38.00  2032-09-15 00:00:00        420.0      940.00\n",
       "std       1.58   9.20                  NaN        133.3      276.62"
      ]
     },
     "execution_count": 147,
     "metadata": {},
     "output_type": "execute_result"
    }
   ],
   "source": [
    "df.describe().round(2)"
   ]
  },
  {
   "cell_type": "code",
   "execution_count": 148,
   "id": "3ccdb4e0-aaba-4311-9bea-2c994b835725",
   "metadata": {},
   "outputs": [
    {
     "data": {
      "text/html": [
       "<div>\n",
       "<style scoped>\n",
       "    .dataframe tbody tr th:only-of-type {\n",
       "        vertical-align: middle;\n",
       "    }\n",
       "\n",
       "    .dataframe tbody tr th {\n",
       "        vertical-align: top;\n",
       "    }\n",
       "\n",
       "    .dataframe thead th {\n",
       "        text-align: right;\n",
       "    }\n",
       "</style>\n",
       "<table border=\"1\" class=\"dataframe\">\n",
       "  <thead>\n",
       "    <tr style=\"text-align: right;\">\n",
       "      <th></th>\n",
       "      <th>Username</th>\n",
       "    </tr>\n",
       "  </thead>\n",
       "  <tbody>\n",
       "    <tr>\n",
       "      <th>0</th>\n",
       "      <td>bogdan_s</td>\n",
       "    </tr>\n",
       "    <tr>\n",
       "      <th>1</th>\n",
       "      <td>jane_smith</td>\n",
       "    </tr>\n",
       "    <tr>\n",
       "      <th>2</th>\n",
       "      <td>alex123</td>\n",
       "    </tr>\n",
       "    <tr>\n",
       "      <th>3</th>\n",
       "      <td>bob56</td>\n",
       "    </tr>\n",
       "    <tr>\n",
       "      <th>4</th>\n",
       "      <td>mark_wilson</td>\n",
       "    </tr>\n",
       "  </tbody>\n",
       "</table>\n",
       "</div>"
      ],
      "text/plain": [
       "      Username\n",
       "0     bogdan_s\n",
       "1   jane_smith\n",
       "2      alex123\n",
       "3        bob56\n",
       "4  mark_wilson"
      ]
     },
     "execution_count": 148,
     "metadata": {},
     "output_type": "execute_result"
    }
   ],
   "source": [
    "df.select_dtypes(include='object')"
   ]
  },
  {
   "cell_type": "code",
   "execution_count": 149,
   "id": "ac3827d2-348c-436b-8e15-944ba5de6da3",
   "metadata": {},
   "outputs": [
    {
     "data": {
      "text/plain": [
       "Index(['Username'], dtype='object')"
      ]
     },
     "execution_count": 149,
     "metadata": {},
     "output_type": "execute_result"
    }
   ],
   "source": [
    "df.select_dtypes(include='object').columns"
   ]
  },
  {
   "cell_type": "code",
   "execution_count": 150,
   "id": "079a057f-2462-48ab-ae1d-b280266dd215",
   "metadata": {},
   "outputs": [
    {
     "data": {
      "text/html": [
       "<div>\n",
       "<style scoped>\n",
       "    .dataframe tbody tr th:only-of-type {\n",
       "        vertical-align: middle;\n",
       "    }\n",
       "\n",
       "    .dataframe tbody tr th {\n",
       "        vertical-align: top;\n",
       "    }\n",
       "\n",
       "    .dataframe thead th {\n",
       "        text-align: right;\n",
       "    }\n",
       "</style>\n",
       "<table border=\"1\" class=\"dataframe\">\n",
       "  <thead>\n",
       "    <tr style=\"text-align: right;\">\n",
       "      <th></th>\n",
       "      <th>User ID</th>\n",
       "      <th>Total Posts</th>\n",
       "      <th>Reputation</th>\n",
       "    </tr>\n",
       "  </thead>\n",
       "  <tbody>\n",
       "    <tr>\n",
       "      <th>0</th>\n",
       "      <td>1</td>\n",
       "      <td>150</td>\n",
       "      <td>500</td>\n",
       "    </tr>\n",
       "    <tr>\n",
       "      <th>1</th>\n",
       "      <td>2</td>\n",
       "      <td>230</td>\n",
       "      <td>720</td>\n",
       "    </tr>\n",
       "    <tr>\n",
       "      <th>2</th>\n",
       "      <td>3</td>\n",
       "      <td>80</td>\n",
       "      <td>200</td>\n",
       "    </tr>\n",
       "    <tr>\n",
       "      <th>3</th>\n",
       "      <td>4</td>\n",
       "      <td>420</td>\n",
       "      <td>940</td>\n",
       "    </tr>\n",
       "    <tr>\n",
       "      <th>4</th>\n",
       "      <td>5</td>\n",
       "      <td>310</td>\n",
       "      <td>500</td>\n",
       "    </tr>\n",
       "  </tbody>\n",
       "</table>\n",
       "</div>"
      ],
      "text/plain": [
       "   User ID  Total Posts  Reputation\n",
       "0        1          150         500\n",
       "1        2          230         720\n",
       "2        3           80         200\n",
       "3        4          420         940\n",
       "4        5          310         500"
      ]
     },
     "execution_count": 150,
     "metadata": {},
     "output_type": "execute_result"
    }
   ],
   "source": [
    "df.select_dtypes(include='int64')"
   ]
  },
  {
   "cell_type": "code",
   "execution_count": 151,
   "id": "c594c442-0bda-471c-9b51-91398439293b",
   "metadata": {},
   "outputs": [
    {
     "data": {
      "text/html": [
       "<div>\n",
       "<style scoped>\n",
       "    .dataframe tbody tr th:only-of-type {\n",
       "        vertical-align: middle;\n",
       "    }\n",
       "\n",
       "    .dataframe tbody tr th {\n",
       "        vertical-align: top;\n",
       "    }\n",
       "\n",
       "    .dataframe thead th {\n",
       "        text-align: right;\n",
       "    }\n",
       "</style>\n",
       "<table border=\"1\" class=\"dataframe\">\n",
       "  <thead>\n",
       "    <tr style=\"text-align: right;\">\n",
       "      <th></th>\n",
       "      <th>User ID</th>\n",
       "      <th>Username</th>\n",
       "      <th>Age</th>\n",
       "      <th>Joined Date</th>\n",
       "      <th>Total Posts</th>\n",
       "      <th>Reputation</th>\n",
       "    </tr>\n",
       "  </thead>\n",
       "  <tbody>\n",
       "    <tr>\n",
       "      <th>0</th>\n",
       "      <td>False</td>\n",
       "      <td>False</td>\n",
       "      <td>False</td>\n",
       "      <td>False</td>\n",
       "      <td>False</td>\n",
       "      <td>False</td>\n",
       "    </tr>\n",
       "    <tr>\n",
       "      <th>1</th>\n",
       "      <td>False</td>\n",
       "      <td>False</td>\n",
       "      <td>False</td>\n",
       "      <td>False</td>\n",
       "      <td>False</td>\n",
       "      <td>False</td>\n",
       "    </tr>\n",
       "    <tr>\n",
       "      <th>2</th>\n",
       "      <td>False</td>\n",
       "      <td>False</td>\n",
       "      <td>False</td>\n",
       "      <td>False</td>\n",
       "      <td>False</td>\n",
       "      <td>False</td>\n",
       "    </tr>\n",
       "    <tr>\n",
       "      <th>3</th>\n",
       "      <td>False</td>\n",
       "      <td>False</td>\n",
       "      <td>False</td>\n",
       "      <td>False</td>\n",
       "      <td>False</td>\n",
       "      <td>False</td>\n",
       "    </tr>\n",
       "    <tr>\n",
       "      <th>4</th>\n",
       "      <td>False</td>\n",
       "      <td>False</td>\n",
       "      <td>True</td>\n",
       "      <td>False</td>\n",
       "      <td>False</td>\n",
       "      <td>False</td>\n",
       "    </tr>\n",
       "  </tbody>\n",
       "</table>\n",
       "</div>"
      ],
      "text/plain": [
       "   User ID  Username    Age  Joined Date  Total Posts  Reputation\n",
       "0    False     False  False        False        False       False\n",
       "1    False     False  False        False        False       False\n",
       "2    False     False  False        False        False       False\n",
       "3    False     False  False        False        False       False\n",
       "4    False     False   True        False        False       False"
      ]
     },
     "execution_count": 151,
     "metadata": {},
     "output_type": "execute_result"
    }
   ],
   "source": [
    "df.isna()"
   ]
  },
  {
   "cell_type": "code",
   "execution_count": 152,
   "id": "8b3c3470-4c60-4829-9262-4d298d46ece6",
   "metadata": {},
   "outputs": [
    {
     "data": {
      "text/plain": [
       "User ID        0\n",
       "Username       0\n",
       "Age            1\n",
       "Joined Date    0\n",
       "Total Posts    0\n",
       "Reputation     0\n",
       "dtype: int64"
      ]
     },
     "execution_count": 152,
     "metadata": {},
     "output_type": "execute_result"
    }
   ],
   "source": [
    "df.isna().sum()"
   ]
  },
  {
   "cell_type": "markdown",
   "id": "1a664bf5-1b01-4d7c-a225-ed1063066b63",
   "metadata": {},
   "source": [
    "## Series"
   ]
  },
  {
   "cell_type": "code",
   "execution_count": 153,
   "id": "28bf3c26-bd8f-4f5d-bdd5-b0dd10542cce",
   "metadata": {},
   "outputs": [
    {
     "data": {
      "text/plain": [
       "0       bogdan_s\n",
       "1     jane_smith\n",
       "2        alex123\n",
       "3          bob56\n",
       "4    mark_wilson\n",
       "Name: Username, dtype: object"
      ]
     },
     "execution_count": 153,
     "metadata": {},
     "output_type": "execute_result"
    }
   ],
   "source": [
    "username_series = df['Username']\n",
    "username_series"
   ]
  },
  {
   "cell_type": "code",
   "execution_count": 154,
   "id": "ba295c04-958e-4e63-ace5-b9d8be47328c",
   "metadata": {},
   "outputs": [
    {
     "data": {
      "text/plain": [
       "pandas.core.series.Series"
      ]
     },
     "execution_count": 154,
     "metadata": {},
     "output_type": "execute_result"
    }
   ],
   "source": [
    "type(username_series)"
   ]
  },
  {
   "cell_type": "code",
   "execution_count": 155,
   "id": "ae72ec6d-96c2-42ed-ae58-b900f480fbf4",
   "metadata": {},
   "outputs": [
    {
     "data": {
      "text/plain": [
       "array(['bogdan_s', 'jane_smith', 'alex123', 'bob56', 'mark_wilson'],\n",
       "      dtype=object)"
      ]
     },
     "execution_count": 155,
     "metadata": {},
     "output_type": "execute_result"
    }
   ],
   "source": [
    "username_series.values"
   ]
  },
  {
   "cell_type": "code",
   "execution_count": 156,
   "id": "56cea49b-23a3-4748-9595-54d3900f0fc8",
   "metadata": {},
   "outputs": [
    {
     "data": {
      "text/plain": [
       "numpy.ndarray"
      ]
     },
     "execution_count": 156,
     "metadata": {},
     "output_type": "execute_result"
    }
   ],
   "source": [
    "type(username_series.values)"
   ]
  },
  {
   "cell_type": "code",
   "execution_count": 157,
   "id": "fd54405c-2dde-4799-9947-c240e85cb71b",
   "metadata": {},
   "outputs": [
    {
     "data": {
      "text/plain": [
       "RangeIndex(start=0, stop=5, step=1)"
      ]
     },
     "execution_count": 157,
     "metadata": {},
     "output_type": "execute_result"
    }
   ],
   "source": [
    "username_series.index"
   ]
  },
  {
   "cell_type": "code",
   "execution_count": 158,
   "id": "f9a22988-bd5a-4309-853c-9cef855ba8b0",
   "metadata": {},
   "outputs": [
    {
     "data": {
      "text/plain": [
       "Username\n",
       "bogdan_s       1\n",
       "jane_smith     1\n",
       "alex123        1\n",
       "bob56          1\n",
       "mark_wilson    1\n",
       "Name: count, dtype: int64"
      ]
     },
     "execution_count": 158,
     "metadata": {},
     "output_type": "execute_result"
    }
   ],
   "source": [
    "df['Username'].value_counts()"
   ]
  },
  {
   "cell_type": "code",
   "execution_count": 159,
   "id": "53299015-c6cd-4023-b968-c67fa1050b49",
   "metadata": {},
   "outputs": [
    {
     "data": {
      "text/plain": [
       "array([1, 1, 1, 1, 1])"
      ]
     },
     "execution_count": 159,
     "metadata": {},
     "output_type": "execute_result"
    }
   ],
   "source": [
    "df['Username'].value_counts().values"
   ]
  },
  {
   "cell_type": "code",
   "execution_count": 163,
   "id": "0bc90b38-933f-4f40-900b-21a11373d690",
   "metadata": {},
   "outputs": [
    {
     "data": {
      "text/plain": [
       "Reputation\n",
       "500    2\n",
       "720    1\n",
       "200    1\n",
       "940    1\n",
       "Name: count, dtype: int64"
      ]
     },
     "execution_count": 163,
     "metadata": {},
     "output_type": "execute_result"
    }
   ],
   "source": [
    "df['Reputation'].value_counts()"
   ]
  },
  {
   "cell_type": "code",
   "execution_count": 165,
   "id": "a21e34f7-d4cb-4722-bb33-1d07decf3b75",
   "metadata": {},
   "outputs": [
    {
     "data": {
      "text/plain": [
       "Reputation\n",
       "720    1\n",
       "200    1\n",
       "940    1\n",
       "500    2\n",
       "Name: count, dtype: int64"
      ]
     },
     "execution_count": 165,
     "metadata": {},
     "output_type": "execute_result"
    }
   ],
   "source": [
    "df['Reputation'].value_counts(ascending=True)"
   ]
  },
  {
   "cell_type": "code",
   "execution_count": 164,
   "id": "8b4dce82-6aa3-43e1-9238-bb17c9c31b2c",
   "metadata": {},
   "outputs": [
    {
     "data": {
      "text/plain": [
       "Index([500, 720, 200, 940], dtype='int64', name='Reputation')"
      ]
     },
     "execution_count": 164,
     "metadata": {},
     "output_type": "execute_result"
    }
   ],
   "source": [
    "df['Reputation'].value_counts().index"
   ]
  },
  {
   "cell_type": "code",
   "execution_count": 166,
   "id": "15de4b8a-eb02-41ce-9629-6097356df041",
   "metadata": {},
   "outputs": [
    {
     "data": {
      "text/plain": [
       "array([500, 720, 200, 940])"
      ]
     },
     "execution_count": 166,
     "metadata": {},
     "output_type": "execute_result"
    }
   ],
   "source": [
    "df['Reputation'].unique()"
   ]
  },
  {
   "cell_type": "code",
   "execution_count": 167,
   "id": "ea65e761-7efe-45ff-94f9-8a67fbf51f25",
   "metadata": {},
   "outputs": [
    {
     "data": {
      "text/plain": [
       "2        alex123\n",
       "3          bob56\n",
       "0       bogdan_s\n",
       "1     jane_smith\n",
       "4    mark_wilson\n",
       "Name: Username, dtype: object"
      ]
     },
     "execution_count": 167,
     "metadata": {},
     "output_type": "execute_result"
    }
   ],
   "source": [
    "df['Username'].sort_values()"
   ]
  },
  {
   "cell_type": "code",
   "execution_count": 168,
   "id": "16507922-ef83-41aa-9c9f-dd9ed9fd6bab",
   "metadata": {},
   "outputs": [
    {
     "data": {
      "text/plain": [
       "4    mark_wilson\n",
       "1     jane_smith\n",
       "0       bogdan_s\n",
       "3          bob56\n",
       "2        alex123\n",
       "Name: Username, dtype: object"
      ]
     },
     "execution_count": 168,
     "metadata": {},
     "output_type": "execute_result"
    }
   ],
   "source": [
    "df['Username'].sort_values(ascending=False)"
   ]
  }
 ],
 "metadata": {
  "kernelspec": {
   "display_name": "Python 3 (ipykernel)",
   "language": "python",
   "name": "python3"
  },
  "language_info": {
   "codemirror_mode": {
    "name": "ipython",
    "version": 3
   },
   "file_extension": ".py",
   "mimetype": "text/x-python",
   "name": "python",
   "nbconvert_exporter": "python",
   "pygments_lexer": "ipython3",
   "version": "3.12.6"
  }
 },
 "nbformat": 4,
 "nbformat_minor": 5
}
