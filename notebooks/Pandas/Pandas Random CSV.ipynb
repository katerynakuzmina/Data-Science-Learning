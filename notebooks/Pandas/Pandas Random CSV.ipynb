{
 "cells": [
  {
   "cell_type": "code",
   "execution_count": 38,
   "id": "c25fc097-fec9-44f2-a2ea-99940bd38c94",
   "metadata": {},
   "outputs": [
    {
     "name": "stdout",
     "output_type": "stream",
     "text": [
      "Requirement already satisfied: matplotlib in c:\\users\\tako\\appdata\\local\\programs\\python\\python312\\lib\\site-packages (3.10.0)\n",
      "Requirement already satisfied: contourpy>=1.0.1 in c:\\users\\tako\\appdata\\local\\programs\\python\\python312\\lib\\site-packages (from matplotlib) (1.3.1)\n",
      "Requirement already satisfied: cycler>=0.10 in c:\\users\\tako\\appdata\\local\\programs\\python\\python312\\lib\\site-packages (from matplotlib) (0.12.1)\n",
      "Requirement already satisfied: fonttools>=4.22.0 in c:\\users\\tako\\appdata\\local\\programs\\python\\python312\\lib\\site-packages (from matplotlib) (4.55.8)\n",
      "Requirement already satisfied: kiwisolver>=1.3.1 in c:\\users\\tako\\appdata\\local\\programs\\python\\python312\\lib\\site-packages (from matplotlib) (1.4.8)\n",
      "Requirement already satisfied: numpy>=1.23 in c:\\users\\tako\\appdata\\local\\programs\\python\\python312\\lib\\site-packages (from matplotlib) (2.2.2)\n",
      "Requirement already satisfied: packaging>=20.0 in c:\\users\\tako\\appdata\\local\\programs\\python\\python312\\lib\\site-packages (from matplotlib) (24.2)\n",
      "Requirement already satisfied: pillow>=8 in c:\\users\\tako\\appdata\\local\\programs\\python\\python312\\lib\\site-packages (from matplotlib) (11.1.0)\n",
      "Requirement already satisfied: pyparsing>=2.3.1 in c:\\users\\tako\\appdata\\local\\programs\\python\\python312\\lib\\site-packages (from matplotlib) (3.2.1)\n",
      "Requirement already satisfied: python-dateutil>=2.7 in c:\\users\\tako\\appdata\\local\\programs\\python\\python312\\lib\\site-packages (from matplotlib) (2.9.0.post0)\n",
      "Requirement already satisfied: six>=1.5 in c:\\users\\tako\\appdata\\local\\programs\\python\\python312\\lib\\site-packages (from python-dateutil>=2.7->matplotlib) (1.17.0)\n"
     ]
    }
   ],
   "source": [
    "!pip install matplotlib"
   ]
  },
  {
   "cell_type": "code",
   "execution_count": 39,
   "id": "01f857de-96b8-4a66-adf8-e780ad83c938",
   "metadata": {},
   "outputs": [],
   "source": [
    "import pandas as pd\n",
    "import numpy as np\n",
    "import matplotlib.pyplot as plt"
   ]
  },
  {
   "cell_type": "code",
   "execution_count": 40,
   "id": "94043b2f-01c5-472c-96ae-ba80a287d5f3",
   "metadata": {},
   "outputs": [
    {
     "data": {
      "text/html": [
       "<div>\n",
       "<style scoped>\n",
       "    .dataframe tbody tr th:only-of-type {\n",
       "        vertical-align: middle;\n",
       "    }\n",
       "\n",
       "    .dataframe tbody tr th {\n",
       "        vertical-align: top;\n",
       "    }\n",
       "\n",
       "    .dataframe thead th {\n",
       "        text-align: right;\n",
       "    }\n",
       "</style>\n",
       "<table border=\"1\" class=\"dataframe\">\n",
       "  <thead>\n",
       "    <tr style=\"text-align: right;\">\n",
       "      <th></th>\n",
       "      <th>Date</th>\n",
       "      <th>Product</th>\n",
       "      <th>Price</th>\n",
       "      <th>Quantity</th>\n",
       "    </tr>\n",
       "  </thead>\n",
       "  <tbody>\n",
       "    <tr>\n",
       "      <th>0</th>\n",
       "      <td>2050-01-01</td>\n",
       "      <td>Microphone</td>\n",
       "      <td>147.16</td>\n",
       "      <td>7</td>\n",
       "    </tr>\n",
       "    <tr>\n",
       "      <th>1</th>\n",
       "      <td>2050-01-02</td>\n",
       "      <td>Keyboard</td>\n",
       "      <td>103.09</td>\n",
       "      <td>10</td>\n",
       "    </tr>\n",
       "    <tr>\n",
       "      <th>2</th>\n",
       "      <td>2050-01-03</td>\n",
       "      <td>Tablet</td>\n",
       "      <td>164.48</td>\n",
       "      <td>7</td>\n",
       "    </tr>\n",
       "    <tr>\n",
       "      <th>3</th>\n",
       "      <td>2050-01-04</td>\n",
       "      <td>Camera</td>\n",
       "      <td>103.48</td>\n",
       "      <td>1</td>\n",
       "    </tr>\n",
       "    <tr>\n",
       "      <th>4</th>\n",
       "      <td>2050-01-05</td>\n",
       "      <td>Microphone</td>\n",
       "      <td>162.92</td>\n",
       "      <td>1</td>\n",
       "    </tr>\n",
       "  </tbody>\n",
       "</table>\n",
       "</div>"
      ],
      "text/plain": [
       "        Date     Product   Price  Quantity\n",
       "0 2050-01-01  Microphone  147.16         7\n",
       "1 2050-01-02    Keyboard  103.09        10\n",
       "2 2050-01-03      Tablet  164.48         7\n",
       "3 2050-01-04      Camera  103.48         1\n",
       "4 2050-01-05  Microphone  162.92         1"
      ]
     },
     "execution_count": 40,
     "metadata": {},
     "output_type": "execute_result"
    }
   ],
   "source": [
    "np.random.seed(1)\n",
    "n = 100\n",
    "dates = pd.date_range(start='2050-01-01', periods=n, freq='D')\n",
    "products = np.random.choice(['Tablet' , 'Camera', 'Phone', 'Microphone', 'Keyboard'], n)\n",
    "prices = np.round(np.random.uniform(50.0, 200.0, n), 2)\n",
    "quantities = np.random.randint(1, 15, n)\n",
    "\n",
    "data = {\n",
    "    'Date': dates,\n",
    "    'Product': products,\n",
    "    'Price': prices,\n",
    "    'Quantity': quantities\n",
    "}\n",
    "\n",
    "df = pd.DataFrame(data)\n",
    "df.head()"
   ]
  },
  {
   "cell_type": "code",
   "execution_count": 41,
   "id": "a1cb976c-f25f-4726-9667-8b36619536d4",
   "metadata": {},
   "outputs": [
    {
     "data": {
      "text/plain": [
       "Date        datetime64[ns]\n",
       "Product             object\n",
       "Price              float64\n",
       "Quantity             int32\n",
       "dtype: object"
      ]
     },
     "execution_count": 41,
     "metadata": {},
     "output_type": "execute_result"
    }
   ],
   "source": [
    "df.dtypes"
   ]
  },
  {
   "cell_type": "code",
   "execution_count": 42,
   "id": "221946df-23b4-4a4b-a68f-10a56ddf2a74",
   "metadata": {},
   "outputs": [],
   "source": [
    "df.to_csv('random_sales.csv', index=False)"
   ]
  },
  {
   "cell_type": "code",
   "execution_count": 43,
   "id": "396ec536-97f8-4809-abb7-9849b46d4da9",
   "metadata": {},
   "outputs": [
    {
     "data": {
      "text/html": [
       "<div>\n",
       "<style scoped>\n",
       "    .dataframe tbody tr th:only-of-type {\n",
       "        vertical-align: middle;\n",
       "    }\n",
       "\n",
       "    .dataframe tbody tr th {\n",
       "        vertical-align: top;\n",
       "    }\n",
       "\n",
       "    .dataframe thead th {\n",
       "        text-align: right;\n",
       "    }\n",
       "</style>\n",
       "<table border=\"1\" class=\"dataframe\">\n",
       "  <thead>\n",
       "    <tr style=\"text-align: right;\">\n",
       "      <th></th>\n",
       "      <th>Date</th>\n",
       "      <th>Product</th>\n",
       "      <th>Price</th>\n",
       "      <th>Quantity</th>\n",
       "    </tr>\n",
       "  </thead>\n",
       "  <tbody>\n",
       "    <tr>\n",
       "      <th>0</th>\n",
       "      <td>2050-01-01</td>\n",
       "      <td>Microphone</td>\n",
       "      <td>147.16</td>\n",
       "      <td>7</td>\n",
       "    </tr>\n",
       "    <tr>\n",
       "      <th>1</th>\n",
       "      <td>2050-01-02</td>\n",
       "      <td>Keyboard</td>\n",
       "      <td>103.09</td>\n",
       "      <td>10</td>\n",
       "    </tr>\n",
       "    <tr>\n",
       "      <th>2</th>\n",
       "      <td>2050-01-03</td>\n",
       "      <td>Tablet</td>\n",
       "      <td>164.48</td>\n",
       "      <td>7</td>\n",
       "    </tr>\n",
       "    <tr>\n",
       "      <th>3</th>\n",
       "      <td>2050-01-04</td>\n",
       "      <td>Camera</td>\n",
       "      <td>103.48</td>\n",
       "      <td>1</td>\n",
       "    </tr>\n",
       "    <tr>\n",
       "      <th>4</th>\n",
       "      <td>2050-01-05</td>\n",
       "      <td>Microphone</td>\n",
       "      <td>162.92</td>\n",
       "      <td>1</td>\n",
       "    </tr>\n",
       "  </tbody>\n",
       "</table>\n",
       "</div>"
      ],
      "text/plain": [
       "        Date     Product   Price  Quantity\n",
       "0 2050-01-01  Microphone  147.16         7\n",
       "1 2050-01-02    Keyboard  103.09        10\n",
       "2 2050-01-03      Tablet  164.48         7\n",
       "3 2050-01-04      Camera  103.48         1\n",
       "4 2050-01-05  Microphone  162.92         1"
      ]
     },
     "execution_count": 43,
     "metadata": {},
     "output_type": "execute_result"
    }
   ],
   "source": [
    "df = pd.read_csv('random_sales.csv', parse_dates=['Date'], date_format='%Y-%m-%d')\n",
    "df.head()"
   ]
  },
  {
   "cell_type": "code",
   "execution_count": 44,
   "id": "146acc73-0b93-494e-ac93-426e19777b96",
   "metadata": {},
   "outputs": [
    {
     "data": {
      "text/plain": [
       "Date        datetime64[ns]\n",
       "Product             object\n",
       "Price              float64\n",
       "Quantity             int64\n",
       "dtype: object"
      ]
     },
     "execution_count": 44,
     "metadata": {},
     "output_type": "execute_result"
    }
   ],
   "source": [
    "df.dtypes"
   ]
  },
  {
   "cell_type": "code",
   "execution_count": 45,
   "id": "358b828a-b66d-4b79-9e90-bff325547728",
   "metadata": {},
   "outputs": [],
   "source": [
    "# Download the patch !pip install openpyxl first to avoid mistake\n",
    "df.to_excel('sales_data.xlsx')"
   ]
  },
  {
   "cell_type": "code",
   "execution_count": 46,
   "id": "0a8e36c9-0eb5-4cfd-b96c-939624caac2a",
   "metadata": {},
   "outputs": [],
   "source": [
    "df.to_json('sales_data.json')"
   ]
  },
  {
   "cell_type": "code",
   "execution_count": 47,
   "id": "e2a4e437-e845-49c2-bcfa-ac0119aebfa8",
   "metadata": {},
   "outputs": [
    {
     "data": {
      "text/plain": [
       "(100, 4)"
      ]
     },
     "execution_count": 47,
     "metadata": {},
     "output_type": "execute_result"
    }
   ],
   "source": [
    "df.shape"
   ]
  },
  {
   "cell_type": "code",
   "execution_count": 48,
   "id": "4704d26a-74c0-4bd7-9135-611f16e419e5",
   "metadata": {},
   "outputs": [
    {
     "data": {
      "text/html": [
       "<div>\n",
       "<style scoped>\n",
       "    .dataframe tbody tr th:only-of-type {\n",
       "        vertical-align: middle;\n",
       "    }\n",
       "\n",
       "    .dataframe tbody tr th {\n",
       "        vertical-align: top;\n",
       "    }\n",
       "\n",
       "    .dataframe thead th {\n",
       "        text-align: right;\n",
       "    }\n",
       "</style>\n",
       "<table border=\"1\" class=\"dataframe\">\n",
       "  <thead>\n",
       "    <tr style=\"text-align: right;\">\n",
       "      <th></th>\n",
       "      <th>Date</th>\n",
       "      <th>Price</th>\n",
       "      <th>Quantity</th>\n",
       "    </tr>\n",
       "  </thead>\n",
       "  <tbody>\n",
       "    <tr>\n",
       "      <th>count</th>\n",
       "      <td>100</td>\n",
       "      <td>100.00</td>\n",
       "      <td>100.00</td>\n",
       "    </tr>\n",
       "    <tr>\n",
       "      <th>mean</th>\n",
       "      <td>2050-02-19 12:00:00</td>\n",
       "      <td>117.32</td>\n",
       "      <td>7.79</td>\n",
       "    </tr>\n",
       "    <tr>\n",
       "      <th>min</th>\n",
       "      <td>2050-01-01 00:00:00</td>\n",
       "      <td>51.35</td>\n",
       "      <td>1.00</td>\n",
       "    </tr>\n",
       "    <tr>\n",
       "      <th>25%</th>\n",
       "      <td>2050-01-25 18:00:00</td>\n",
       "      <td>81.13</td>\n",
       "      <td>5.00</td>\n",
       "    </tr>\n",
       "    <tr>\n",
       "      <th>50%</th>\n",
       "      <td>2050-02-19 12:00:00</td>\n",
       "      <td>114.10</td>\n",
       "      <td>8.00</td>\n",
       "    </tr>\n",
       "    <tr>\n",
       "      <th>75%</th>\n",
       "      <td>2050-03-16 06:00:00</td>\n",
       "      <td>161.21</td>\n",
       "      <td>11.25</td>\n",
       "    </tr>\n",
       "    <tr>\n",
       "      <th>max</th>\n",
       "      <td>2050-04-10 00:00:00</td>\n",
       "      <td>197.26</td>\n",
       "      <td>14.00</td>\n",
       "    </tr>\n",
       "    <tr>\n",
       "      <th>std</th>\n",
       "      <td>NaN</td>\n",
       "      <td>42.47</td>\n",
       "      <td>4.03</td>\n",
       "    </tr>\n",
       "  </tbody>\n",
       "</table>\n",
       "</div>"
      ],
      "text/plain": [
       "                      Date   Price  Quantity\n",
       "count                  100  100.00    100.00\n",
       "mean   2050-02-19 12:00:00  117.32      7.79\n",
       "min    2050-01-01 00:00:00   51.35      1.00\n",
       "25%    2050-01-25 18:00:00   81.13      5.00\n",
       "50%    2050-02-19 12:00:00  114.10      8.00\n",
       "75%    2050-03-16 06:00:00  161.21     11.25\n",
       "max    2050-04-10 00:00:00  197.26     14.00\n",
       "std                    NaN   42.47      4.03"
      ]
     },
     "execution_count": 48,
     "metadata": {},
     "output_type": "execute_result"
    }
   ],
   "source": [
    "df.describe().round(2)"
   ]
  },
  {
   "cell_type": "code",
   "execution_count": 49,
   "id": "1a03cd2b-ef69-419b-92ff-392c367a0bab",
   "metadata": {},
   "outputs": [
    {
     "data": {
      "text/plain": [
       "array([[Timestamp('2050-01-01 00:00:00'), 'Microphone', 147.16, 7],\n",
       "       [Timestamp('2050-01-02 00:00:00'), 'Keyboard', 103.09, 10],\n",
       "       [Timestamp('2050-01-03 00:00:00'), 'Tablet', 164.48, 7],\n",
       "       [Timestamp('2050-01-04 00:00:00'), 'Camera', 103.48, 1],\n",
       "       [Timestamp('2050-01-05 00:00:00'), 'Microphone', 162.92, 1],\n",
       "       [Timestamp('2050-01-06 00:00:00'), 'Tablet', 182.2, 3],\n",
       "       [Timestamp('2050-01-07 00:00:00'), 'Tablet', 51.75, 13],\n",
       "       [Timestamp('2050-01-08 00:00:00'), 'Camera', 124.72, 10],\n",
       "       [Timestamp('2050-01-09 00:00:00'), 'Keyboard', 61.07, 7],\n",
       "       [Timestamp('2050-01-10 00:00:00'), 'Keyboard', 168.04, 1],\n",
       "       [Timestamp('2050-01-11 00:00:00'), 'Camera', 59.61, 7],\n",
       "       [Timestamp('2050-01-12 00:00:00'), 'Phone', 103.3, 8],\n",
       "       [Timestamp('2050-01-13 00:00:00'), 'Keyboard', 191.28, 1],\n",
       "       [Timestamp('2050-01-14 00:00:00'), 'Phone', 106.97, 4],\n",
       "       [Timestamp('2050-01-15 00:00:00'), 'Keyboard', 164.44, 10],\n",
       "       [Timestamp('2050-01-16 00:00:00'), 'Microphone', 165.74, 1],\n",
       "       [Timestamp('2050-01-17 00:00:00'), 'Keyboard', 95.2, 13],\n",
       "       [Timestamp('2050-01-18 00:00:00'), 'Phone', 165.91, 4],\n",
       "       [Timestamp('2050-01-19 00:00:00'), 'Keyboard', 72.94, 11],\n",
       "       [Timestamp('2050-01-20 00:00:00'), 'Phone', 136.8, 12],\n",
       "       [Timestamp('2050-01-21 00:00:00'), 'Keyboard', 51.35, 5],\n",
       "       [Timestamp('2050-01-22 00:00:00'), 'Camera', 156.36, 8],\n",
       "       [Timestamp('2050-01-23 00:00:00'), 'Camera', 120.6, 6],\n",
       "       [Timestamp('2050-01-24 00:00:00'), 'Tablet', 164.69, 13],\n",
       "       [Timestamp('2050-01-25 00:00:00'), 'Camera', 120.11, 4],\n",
       "       [Timestamp('2050-01-26 00:00:00'), 'Camera', 90.35, 9],\n",
       "       [Timestamp('2050-01-27 00:00:00'), 'Camera', 174.75, 9],\n",
       "       [Timestamp('2050-01-28 00:00:00'), 'Camera', 132.7, 1],\n",
       "       [Timestamp('2050-01-29 00:00:00'), 'Tablet', 60.51, 7],\n",
       "       [Timestamp('2050-01-30 00:00:00'), 'Keyboard', 120.87, 8],\n",
       "       [Timestamp('2050-01-31 00:00:00'), 'Camera', 161.41, 13],\n",
       "       [Timestamp('2050-02-01 00:00:00'), 'Tablet', 78.79, 14],\n",
       "       [Timestamp('2050-02-02 00:00:00'), 'Tablet', 119.65, 10],\n",
       "       [Timestamp('2050-02-03 00:00:00'), 'Microphone', 84.55, 6],\n",
       "       [Timestamp('2050-02-04 00:00:00'), 'Phone', 126.24, 5],\n",
       "       [Timestamp('2050-02-05 00:00:00'), 'Camera', 81.29, 10],\n",
       "       [Timestamp('2050-02-06 00:00:00'), 'Tablet', 57.4, 11],\n",
       "       [Timestamp('2050-02-07 00:00:00'), 'Microphone', 127.83, 6],\n",
       "       [Timestamp('2050-02-08 00:00:00'), 'Camera', 75.84, 3],\n",
       "       [Timestamp('2050-02-09 00:00:00'), 'Camera', 109.45, 14],\n",
       "       [Timestamp('2050-02-10 00:00:00'), 'Microphone', 66.1, 13],\n",
       "       [Timestamp('2050-02-11 00:00:00'), 'Keyboard', 126.47, 6],\n",
       "       [Timestamp('2050-02-12 00:00:00'), 'Tablet', 65.32, 7],\n",
       "       [Timestamp('2050-02-13 00:00:00'), 'Camera', 93.31, 12],\n",
       "       [Timestamp('2050-02-14 00:00:00'), 'Microphone', 84.76, 7],\n",
       "       [Timestamp('2050-02-15 00:00:00'), 'Keyboard', 195.15, 13],\n",
       "       [Timestamp('2050-02-16 00:00:00'), 'Phone', 91.75, 13],\n",
       "       [Timestamp('2050-02-17 00:00:00'), 'Keyboard', 85.04, 9],\n",
       "       [Timestamp('2050-02-18 00:00:00'), 'Tablet', 63.73, 12],\n",
       "       [Timestamp('2050-02-19 00:00:00'), 'Microphone', 135.51, 11],\n",
       "       [Timestamp('2050-02-20 00:00:00'), 'Camera', 112.69, 13],\n",
       "       [Timestamp('2050-02-21 00:00:00'), 'Phone', 105.18, 8],\n",
       "       [Timestamp('2050-02-22 00:00:00'), 'Tablet', 171.95, 8],\n",
       "       [Timestamp('2050-02-23 00:00:00'), 'Keyboard', 93.46, 8],\n",
       "       [Timestamp('2050-02-24 00:00:00'), 'Camera', 157.61, 14],\n",
       "       [Timestamp('2050-02-25 00:00:00'), 'Phone', 141.94, 12],\n",
       "       [Timestamp('2050-02-26 00:00:00'), 'Phone', 114.04, 13],\n",
       "       [Timestamp('2050-02-27 00:00:00'), 'Camera', 162.78, 3],\n",
       "       [Timestamp('2050-02-28 00:00:00'), 'Tablet', 114.17, 7],\n",
       "       [Timestamp('2050-03-01 00:00:00'), 'Camera', 114.26, 12],\n",
       "       [Timestamp('2050-03-02 00:00:00'), 'Microphone', 104.29, 1],\n",
       "       [Timestamp('2050-03-03 00:00:00'), 'Keyboard', 73.0, 14],\n",
       "       [Timestamp('2050-03-04 00:00:00'), 'Microphone', 190.58, 6],\n",
       "       [Timestamp('2050-03-05 00:00:00'), 'Camera', 187.46, 3],\n",
       "       [Timestamp('2050-03-06 00:00:00'), 'Microphone', 167.29, 2],\n",
       "       [Timestamp('2050-03-07 00:00:00'), 'Tablet', 142.45, 12],\n",
       "       [Timestamp('2050-03-08 00:00:00'), 'Tablet', 55.4, 11],\n",
       "       [Timestamp('2050-03-09 00:00:00'), 'Phone', 148.15, 9],\n",
       "       [Timestamp('2050-03-10 00:00:00'), 'Phone', 69.47, 6],\n",
       "       [Timestamp('2050-03-11 00:00:00'), 'Camera', 94.15, 10],\n",
       "       [Timestamp('2050-03-12 00:00:00'), 'Microphone', 104.12, 5],\n",
       "       [Timestamp('2050-03-13 00:00:00'), 'Keyboard', 91.2, 10],\n",
       "       [Timestamp('2050-03-14 00:00:00'), 'Phone', 61.1, 12],\n",
       "       [Timestamp('2050-03-15 00:00:00'), 'Tablet', 72.82, 12],\n",
       "       [Timestamp('2050-03-16 00:00:00'), 'Tablet', 74.24, 2],\n",
       "       [Timestamp('2050-03-17 00:00:00'), 'Camera', 190.81, 3],\n",
       "       [Timestamp('2050-03-18 00:00:00'), 'Camera', 105.67, 1],\n",
       "       [Timestamp('2050-03-19 00:00:00'), 'Microphone', 57.5, 11],\n",
       "       [Timestamp('2050-03-20 00:00:00'), 'Tablet', 161.14, 5],\n",
       "       [Timestamp('2050-03-21 00:00:00'), 'Tablet', 94.8, 8],\n",
       "       [Timestamp('2050-03-22 00:00:00'), 'Keyboard', 80.65, 1],\n",
       "       [Timestamp('2050-03-23 00:00:00'), 'Phone', 197.26, 7],\n",
       "       [Timestamp('2050-03-24 00:00:00'), 'Keyboard', 183.95, 3],\n",
       "       [Timestamp('2050-03-25 00:00:00'), 'Microphone', 163.9, 5],\n",
       "       [Timestamp('2050-03-26 00:00:00'), 'Microphone', 147.67, 4],\n",
       "       [Timestamp('2050-03-27 00:00:00'), 'Tablet', 55.95, 7],\n",
       "       [Timestamp('2050-03-28 00:00:00'), 'Microphone', 172.08, 13],\n",
       "       [Timestamp('2050-03-29 00:00:00'), 'Keyboard', 164.39, 8],\n",
       "       [Timestamp('2050-03-30 00:00:00'), 'Microphone', 118.29, 7],\n",
       "       [Timestamp('2050-03-31 00:00:00'), 'Keyboard', 129.77, 4],\n",
       "       [Timestamp('2050-04-01 00:00:00'), 'Keyboard', 66.4, 1],\n",
       "       [Timestamp('2050-04-02 00:00:00'), 'Keyboard', 71.9, 14],\n",
       "       [Timestamp('2050-04-03 00:00:00'), 'Camera', 126.32, 7],\n",
       "       [Timestamp('2050-04-04 00:00:00'), 'Tablet', 82.35, 14],\n",
       "       [Timestamp('2050-04-05 00:00:00'), 'Keyboard', 187.47, 5],\n",
       "       [Timestamp('2050-04-06 00:00:00'), 'Phone', 119.32, 8],\n",
       "       [Timestamp('2050-04-07 00:00:00'), 'Tablet', 69.84, 7],\n",
       "       [Timestamp('2050-04-08 00:00:00'), 'Phone', 164.64, 3],\n",
       "       [Timestamp('2050-04-09 00:00:00'), 'Keyboard', 81.91, 11],\n",
       "       [Timestamp('2050-04-10 00:00:00'), 'Camera', 61.14, 13]],\n",
       "      dtype=object)"
      ]
     },
     "execution_count": 49,
     "metadata": {},
     "output_type": "execute_result"
    }
   ],
   "source": [
    "df.values"
   ]
  },
  {
   "cell_type": "code",
   "execution_count": 50,
   "id": "3cf3fbcb-e0ae-4166-9382-8652407ab772",
   "metadata": {},
   "outputs": [
    {
     "data": {
      "text/plain": [
       "array([[Timestamp('2050-01-01 00:00:00'), 'Microphone', 147.16, 7],\n",
       "       [Timestamp('2050-01-02 00:00:00'), 'Keyboard', 103.09, 10],\n",
       "       [Timestamp('2050-01-03 00:00:00'), 'Tablet', 164.48, 7],\n",
       "       [Timestamp('2050-01-04 00:00:00'), 'Camera', 103.48, 1],\n",
       "       [Timestamp('2050-01-05 00:00:00'), 'Microphone', 162.92, 1]],\n",
       "      dtype=object)"
      ]
     },
     "execution_count": 50,
     "metadata": {},
     "output_type": "execute_result"
    }
   ],
   "source": [
    "df.values[:5]"
   ]
  },
  {
   "cell_type": "code",
   "execution_count": 51,
   "id": "461d3610-01c1-435a-b13d-815523a07317",
   "metadata": {},
   "outputs": [
    {
     "data": {
      "text/plain": [
       "<pandas.core.groupby.generic.DataFrameGroupBy object at 0x00000266A7BD34A0>"
      ]
     },
     "execution_count": 51,
     "metadata": {},
     "output_type": "execute_result"
    }
   ],
   "source": [
    "df.groupby('Product')"
   ]
  },
  {
   "cell_type": "code",
   "execution_count": 52,
   "id": "dba6f929-d18a-4282-95a8-97df5d7a2492",
   "metadata": {},
   "outputs": [
    {
     "data": {
      "text/plain": [
       "<pandas.core.groupby.generic.SeriesGroupBy object at 0x00000266A8F7A570>"
      ]
     },
     "execution_count": 52,
     "metadata": {},
     "output_type": "execute_result"
    }
   ],
   "source": [
    "df.groupby('Product')['Quantity']"
   ]
  },
  {
   "cell_type": "code",
   "execution_count": 53,
   "id": "0f9e3675-41e3-48e9-81c8-9c6799926804",
   "metadata": {},
   "outputs": [
    {
     "data": {
      "text/plain": [
       "Product\n",
       "Camera        186\n",
       "Keyboard      173\n",
       "Microphone    106\n",
       "Phone         124\n",
       "Tablet        190\n",
       "Name: Quantity, dtype: int64"
      ]
     },
     "execution_count": 53,
     "metadata": {},
     "output_type": "execute_result"
    }
   ],
   "source": [
    "product_sales = df.groupby('Product')['Quantity'].sum()\n",
    "product_sales"
   ]
  },
  {
   "cell_type": "code",
   "execution_count": 54,
   "id": "add6a32e-86e2-4842-850b-23596a2f086e",
   "metadata": {},
   "outputs": [
    {
     "data": {
      "text/plain": [
       "Product\n",
       "Camera        121.54\n",
       "Keyboard      115.61\n",
       "Microphone    129.43\n",
       "Phone         123.47\n",
       "Tablet        100.17\n",
       "Name: Price, dtype: float64"
      ]
     },
     "execution_count": 54,
     "metadata": {},
     "output_type": "execute_result"
    }
   ],
   "source": [
    "average_prices = df.groupby('Product')['Price'].mean().round(2)\n",
    "average_prices"
   ]
  },
  {
   "cell_type": "code",
   "execution_count": 55,
   "id": "f97a15fc-dbd1-4f7e-ac83-376846126dc6",
   "metadata": {},
   "outputs": [
    {
     "data": {
      "image/png": "[encoded data removed]",
      "text/plain": [
       "<Figure size 640x480 with 1 Axes>"
      ]
     },
     "metadata": {},
     "output_type": "display_data"
    }
   ],
   "source": [
    "plt.bar(product_sales.index, product_sales, color=['red', 'green', 'blue'])\n",
    "plt.title('Total Sales per Product')\n",
    "plt.xlabel('Product')\n",
    "plt.ylabel('Total Sales')\n",
    "plt.show()"
   ]
  },
  {
   "cell_type": "code",
   "execution_count": 56,
   "id": "dadec10b-206a-46fe-8746-e107eaa48b53",
   "metadata": {},
   "outputs": [
    {
     "data": {
      "image/png": "[encoded data removed]",
      "text/plain": [
       "<Figure size 640x480 with 1 Axes>"
      ]
     },
     "metadata": {},
     "output_type": "display_data"
    }
   ],
   "source": [
    "plt.plot(average_prices.index, average_prices.values)\n",
    "plt.show()"
   ]
  }
 ],
 "metadata": {
  "kernelspec": {
   "display_name": "Python 3 (ipykernel)",
   "language": "python",
   "name": "python3"
  },
  "language_info": {
   "codemirror_mode": {
    "name": "ipython",
    "version": 3
   },
   "file_extension": ".py",
   "mimetype": "text/x-python",
   "name": "python",
   "nbconvert_exporter": "python",
   "pygments_lexer": "ipython3",
   "version": "3.12.6"
  }
 },
 "nbformat": 4,
 "nbformat_minor": 5
}
