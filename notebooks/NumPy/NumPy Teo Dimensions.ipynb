{
 "cells": [
  {
   "cell_type": "code",
   "execution_count": 2,
   "id": "adc6de86-fac9-4485-a912-0afd5115e009",
   "metadata": {},
   "outputs": [],
   "source": [
    "import numpy as np"
   ]
  },
  {
   "cell_type": "code",
   "execution_count": 3,
   "id": "3ccf8bf3-e818-4f03-928d-90216e14da2a",
   "metadata": {},
   "outputs": [
    {
     "data": {
      "text/plain": [
       "array([[1, 2, 3],\n",
       "       [4, 5, 6]])"
      ]
     },
     "execution_count": 3,
     "metadata": {},
     "output_type": "execute_result"
    }
   ],
   "source": [
    "first = np.array([[1, 2, 3], [4, 5, 6]])\n",
    "first"
   ]
  },
  {
   "cell_type": "code",
   "execution_count": 4,
   "id": "b9d3adc1-3640-4d3e-8eea-820287820955",
   "metadata": {},
   "outputs": [
    {
     "data": {
      "text/plain": [
       "(2, 3)"
      ]
     },
     "execution_count": 4,
     "metadata": {},
     "output_type": "execute_result"
    }
   ],
   "source": [
    "first.shape"
   ]
  },
  {
   "cell_type": "code",
   "execution_count": 5,
   "id": "818557eb-c49b-41c5-b215-1beeb3df2875",
   "metadata": {},
   "outputs": [
    {
     "data": {
      "text/plain": [
       "2"
      ]
     },
     "execution_count": 5,
     "metadata": {},
     "output_type": "execute_result"
    }
   ],
   "source": [
    "first.ndim"
   ]
  },
  {
   "cell_type": "code",
   "execution_count": 6,
   "id": "7820aafe-c5a0-474c-b5fd-64e891f2e0fc",
   "metadata": {},
   "outputs": [
    {
     "data": {
      "text/plain": [
       "array([[ 7,  8,  9],\n",
       "       [10, 11, 12]])"
      ]
     },
     "execution_count": 6,
     "metadata": {},
     "output_type": "execute_result"
    }
   ],
   "source": [
    "second = np.array([[7, 8, 9], [10, 11, 12]])\n",
    "second"
   ]
  },
  {
   "cell_type": "code",
   "execution_count": 7,
   "id": "29b3b225-b684-43b8-b1af-d58095dd4088",
   "metadata": {},
   "outputs": [
    {
     "data": {
      "text/plain": [
       "(2, 3)"
      ]
     },
     "execution_count": 7,
     "metadata": {},
     "output_type": "execute_result"
    }
   ],
   "source": [
    "second.shape"
   ]
  },
  {
   "cell_type": "code",
   "execution_count": 8,
   "id": "bd55265b-9278-491e-92c8-208fe5cb4692",
   "metadata": {},
   "outputs": [
    {
     "data": {
      "text/plain": [
       "2"
      ]
     },
     "execution_count": 8,
     "metadata": {},
     "output_type": "execute_result"
    }
   ],
   "source": [
    "second.ndim"
   ]
  },
  {
   "cell_type": "code",
   "execution_count": 9,
   "id": "0fb5038c-e797-431d-946d-0ba901c27078",
   "metadata": {},
   "outputs": [
    {
     "data": {
      "text/plain": [
       "array([[ 8, 10, 12],\n",
       "       [14, 16, 18]])"
      ]
     },
     "execution_count": 9,
     "metadata": {},
     "output_type": "execute_result"
    }
   ],
   "source": [
    "first + second"
   ]
  },
  {
   "cell_type": "code",
   "execution_count": 10,
   "id": "58c7c118-05fe-4eb6-9084-7f0cfc8ff938",
   "metadata": {},
   "outputs": [
    {
     "data": {
      "text/plain": [
       "array([[2, 3, 4],\n",
       "       [5, 6, 7]])"
      ]
     },
     "execution_count": 10,
     "metadata": {},
     "output_type": "execute_result"
    }
   ],
   "source": [
    "first + 1"
   ]
  },
  {
   "cell_type": "code",
   "execution_count": 11,
   "id": "e87a8810-b095-4323-ab4e-6230e9a2cf78",
   "metadata": {},
   "outputs": [
    {
     "data": {
      "text/plain": [
       "array([[-1,  0,  1],\n",
       "       [ 2,  3,  4]])"
      ]
     },
     "execution_count": 11,
     "metadata": {},
     "output_type": "execute_result"
    }
   ],
   "source": [
    "first - 2"
   ]
  },
  {
   "cell_type": "code",
   "execution_count": 12,
   "id": "d10a1119-72af-485b-8b7b-9f5481d281ea",
   "metadata": {},
   "outputs": [
    {
     "data": {
      "text/plain": [
       "array([[ 2,  4,  6],\n",
       "       [ 8, 10, 12]])"
      ]
     },
     "execution_count": 12,
     "metadata": {},
     "output_type": "execute_result"
    }
   ],
   "source": [
    "first * 2"
   ]
  },
  {
   "cell_type": "code",
   "execution_count": 13,
   "id": "8d748660-0fee-491b-b028-5d6dd5e233e6",
   "metadata": {},
   "outputs": [
    {
     "data": {
      "text/plain": [
       "array([[0.33333333, 0.66666667, 1.        ],\n",
       "       [1.33333333, 1.66666667, 2.        ]])"
      ]
     },
     "execution_count": 13,
     "metadata": {},
     "output_type": "execute_result"
    }
   ],
   "source": [
    "first / 3"
   ]
  },
  {
   "cell_type": "code",
   "execution_count": 14,
   "id": "0debcf62-a6a0-4fe7-a259-1878959214e0",
   "metadata": {},
   "outputs": [
    {
     "data": {
      "text/plain": [
       "np.int64(7)"
      ]
     },
     "execution_count": 14,
     "metadata": {},
     "output_type": "execute_result"
    }
   ],
   "source": [
    "second[0,0]"
   ]
  },
  {
   "cell_type": "code",
   "execution_count": 16,
   "id": "a7244d2e-3a4a-4ac4-abe4-b857097de800",
   "metadata": {},
   "outputs": [
    {
     "data": {
      "text/plain": [
       "array([7, 8, 9])"
      ]
     },
     "execution_count": 16,
     "metadata": {},
     "output_type": "execute_result"
    }
   ],
   "source": [
    "second[0]"
   ]
  },
  {
   "cell_type": "code",
   "execution_count": 18,
   "id": "4f220b59-8c7a-49af-9814-56dafd0e3dc5",
   "metadata": {},
   "outputs": [
    {
     "data": {
      "text/plain": [
       "np.int64(10)"
      ]
     },
     "execution_count": 18,
     "metadata": {},
     "output_type": "execute_result"
    }
   ],
   "source": [
    "second[1,0]"
   ]
  },
  {
   "cell_type": "markdown",
   "id": "9258f1c5-937a-48d5-b38b-0657dd31f6ee",
   "metadata": {},
   "source": [
    "соединение двухмерных массивов по оси 0 дефолтово:"
   ]
  },
  {
   "cell_type": "code",
   "execution_count": 19,
   "id": "5f2680cb-157f-40a3-8f7c-6f9031d17207",
   "metadata": {},
   "outputs": [
    {
     "data": {
      "text/plain": [
       "array([[ 1,  2,  3],\n",
       "       [ 4,  5,  6],\n",
       "       [ 7,  8,  9],\n",
       "       [10, 11, 12]])"
      ]
     },
     "execution_count": 19,
     "metadata": {},
     "output_type": "execute_result"
    }
   ],
   "source": [
    "np.concatenate((first, second))"
   ]
  },
  {
   "cell_type": "markdown",
   "id": "b689f4f8-8cd9-45fb-9a17-7aabb527c107",
   "metadata": {},
   "source": [
    "соединение двухмерных массивов по оси 1:"
   ]
  },
  {
   "cell_type": "code",
   "execution_count": 21,
   "id": "ad0a1c8d-c2ac-4d31-a849-c370f7d6682d",
   "metadata": {},
   "outputs": [
    {
     "data": {
      "text/plain": [
       "array([[ 1,  2,  3,  7,  8,  9],\n",
       "       [ 4,  5,  6, 10, 11, 12]])"
      ]
     },
     "execution_count": 21,
     "metadata": {},
     "output_type": "execute_result"
    }
   ],
   "source": [
    "np.concatenate((first, second), axis=1)"
   ]
  },
  {
   "cell_type": "markdown",
   "id": "39551054-e1bb-4a7a-9a2d-fe1d85402091",
   "metadata": {},
   "source": [
    "соединение одномерных массивов:"
   ]
  },
  {
   "cell_type": "code",
   "execution_count": 22,
   "id": "6578becb-f607-46d0-8bb3-e7157250d432",
   "metadata": {},
   "outputs": [
    {
     "data": {
      "text/plain": [
       "array([1, 2, 3, 4, 5, 6, 7, 8])"
      ]
     },
     "execution_count": 22,
     "metadata": {},
     "output_type": "execute_result"
    }
   ],
   "source": [
    "np.concatenate((np.array([1, 2, 3, 4]), np.array([5, 6, 7, 8])))"
   ]
  }
 ],
 "metadata": {
  "kernelspec": {
   "display_name": "Python 3 (ipykernel)",
   "language": "python",
   "name": "python3"
  },
  "language_info": {
   "codemirror_mode": {
    "name": "ipython",
    "version": 3
   },
   "file_extension": ".py",
   "mimetype": "text/x-python",
   "name": "python",
   "nbconvert_exporter": "python",
   "pygments_lexer": "ipython3",
   "version": "3.12.6"
  }
 },
 "nbformat": 4,
 "nbformat_minor": 5
}
