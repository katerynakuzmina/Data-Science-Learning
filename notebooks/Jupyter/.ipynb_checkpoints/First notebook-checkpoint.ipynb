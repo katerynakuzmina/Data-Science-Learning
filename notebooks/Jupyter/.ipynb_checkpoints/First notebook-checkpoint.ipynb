{
 "cells": [
  {
   "cell_type": "markdown",
   "id": "43cbc890-fc89-4144-b7da-b34206da7428",
   "metadata": {},
   "source": [
    "# First Notebook"
   ]
  },
  {
   "cell_type": "markdown",
   "id": "881ba929-998e-47ad-ae91-41cd1a911aa0",
   "metadata": {},
   "source": [
    "## First Section"
   ]
  },
  {
   "cell_type": "code",
   "execution_count": 1,
   "id": "e04ba0af-cad3-477e-9ac7-6064fe316b69",
   "metadata": {},
   "outputs": [
    {
     "data": {
      "text/plain": [
       "12"
      ]
     },
     "execution_count": 1,
     "metadata": {},
     "output_type": "execute_result"
    }
   ],
   "source": [
    "10 + 2"
   ]
  },
  {
   "cell_type": "code",
   "execution_count": 2,
   "id": "5349077f-3c45-41bb-b07d-f916b50b640c",
   "metadata": {},
   "outputs": [
    {
     "data": {
      "text/plain": [
       "'Katya'"
      ]
     },
     "execution_count": 2,
     "metadata": {},
     "output_type": "execute_result"
    }
   ],
   "source": [
    "my_name = 'Katya'\n",
    "my_name"
   ]
  },
  {
   "cell_type": "code",
   "execution_count": 3,
   "id": "3e2a7081-302f-4253-a731-7ae2a5ebd7d3",
   "metadata": {},
   "outputs": [
    {
     "data": {
      "text/plain": [
       "'Katya'"
      ]
     },
     "execution_count": 3,
     "metadata": {},
     "output_type": "execute_result"
    }
   ],
   "source": [
    "my_name"
   ]
  },
  {
   "cell_type": "code",
   "execution_count": 4,
   "id": "cf6d675c-27d3-401d-8eea-0e73421de6f2",
   "metadata": {},
   "outputs": [
    {
     "data": {
      "text/plain": [
       "'Alice'"
      ]
     },
     "execution_count": 4,
     "metadata": {},
     "output_type": "execute_result"
    }
   ],
   "source": [
    "my_name = 'Alice'\n",
    "my_name"
   ]
  },
  {
   "cell_type": "code",
   "execution_count": 5,
   "id": "1369d9c8-bfb0-4418-9192-bbb45b3582ef",
   "metadata": {},
   "outputs": [
    {
     "data": {
      "text/plain": [
       "'Alice'"
      ]
     },
     "execution_count": 5,
     "metadata": {},
     "output_type": "execute_result"
    }
   ],
   "source": [
    "my_name"
   ]
  },
  {
   "cell_type": "markdown",
   "id": "38a60de4-d3b5-4a29-be5d-13bea5d29ecd",
   "metadata": {},
   "source": [
    "## Second Section"
   ]
  },
  {
   "cell_type": "code",
   "execution_count": 6,
   "id": "3f6cd423-ad0a-4e3c-aeeb-492c2f53f3e9",
   "metadata": {},
   "outputs": [
    {
     "data": {
      "text/plain": [
       "'My name is Alice'"
      ]
     },
     "execution_count": 6,
     "metadata": {},
     "output_type": "execute_result"
    }
   ],
   "source": [
    "f\"My name is {my_name}\""
   ]
  }
 ],
 "metadata": {
  "kernelspec": {
   "display_name": "Python 3 (ipykernel)",
   "language": "python",
   "name": "python3"
  },
  "language_info": {
   "codemirror_mode": {
    "name": "ipython",
    "version": 3
   },
   "file_extension": ".py",
   "mimetype": "text/x-python",
   "name": "python",
   "nbconvert_exporter": "python",
   "pygments_lexer": "ipython3",
   "version": "3.12.6"
  }
 },
 "nbformat": 4,
 "nbformat_minor": 5
}
